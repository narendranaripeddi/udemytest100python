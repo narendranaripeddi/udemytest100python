{
  "nbformat": 4,
  "nbformat_minor": 0,
  "metadata": {
    "colab": {
      "name": "exercise.ipynb",
      "provenance": [],
      "authorship_tag": "ABX9TyNDytWReFO+QrBeoTLtoEAv",
      "include_colab_link": true
    },
    "kernelspec": {
      "name": "python3",
      "display_name": "Python 3"
    },
    "language_info": {
      "name": "python"
    }
  },
  "cells": [
    {
      "cell_type": "markdown",
      "metadata": {
        "id": "view-in-github",
        "colab_type": "text"
      },
      "source": [
        "<a href=\"https://colab.research.google.com/github/narendranaripeddi/udemytest100python/blob/main/exercise.ipynb\" target=\"_parent\"><img src=\"https://colab.research.google.com/assets/colab-badge.svg\" alt=\"Open In Colab\"/></a>"
      ]
    },
    {
      "cell_type": "code",
      "execution_count": 1,
      "metadata": {
        "id": "uIBTM1xL0twy",
        "colab": {
          "base_uri": "https://localhost:8080/"
        },
        "outputId": "3198fa66-ff6a-4384-bb85-9237c2b6ac8e"
      },
      "outputs": [
        {
          "output_type": "stream",
          "name": "stdout",
          "text": [
            "narendra naripeddi\n"
          ]
        }
      ],
      "source": [
        "print(\"narendra naripeddi\")"
      ]
    },
    {
      "cell_type": "code",
      "source": [
        "print(\"narendra babu naripeddi\")"
      ],
      "metadata": {
        "colab": {
          "base_uri": "https://localhost:8080/"
        },
        "id": "3lxrASOr3Wsa",
        "outputId": "67110782-e304-493a-e8ca-bd9f0b194cdd"
      },
      "execution_count": 2,
      "outputs": [
        {
          "output_type": "stream",
          "name": "stdout",
          "text": [
            "narendra babu naripeddi\n"
          ]
        }
      ]
    }
  ]
}